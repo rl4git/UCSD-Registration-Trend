{
 "cells": [
  {
   "cell_type": "markdown",
   "metadata": {
    "application/vnd.databricks.v1+cell": {
     "cellMetadata": {
      "byteLimit": 2048000,
      "rowLimit": 10000
     },
     "inputWidgets": {},
     "nuid": "71a408cb-6458-49a6-9b5a-f04bcd0a4636",
     "showTitle": false,
     "tableResultSettingsMap": {},
     "title": ""
    }
   },
   "source": [
    "## Create Final Table\n",
    "清理后的数据中，课程信息和注册信息混杂在一起。这不仅带来了冗余，也带来了一些麻烦，例如：\n",
    "- 未来我们想要实现按教授名索引课程的功能，然而，部分课程由多个教授任课，这给我们分裂不同课程带来了麻烦。\n",
    "- 未来我们可能会加入关于不同季度课程的评分数据，如果添加进当前表中会使其非常冗杂。\n",
    "\n",
    "因此，我们决定将当前清理过的表分为四张表：\n",
    "- Professors\n",
    "  - 存储教授信息\n",
    "  - `prof_id`: 主键\n",
    "  - `prof_last_name`: 教授的姓, 不可为null\n",
    "  - `prof_first_name`: 教授的名, 可为null\n",
    "  - `prof_middle_name`: 中间名, 可谓null\n",
    "\n",
    "- Courses\n",
    "  - 存储课程信息\n",
    "  - `course_offering_id`: 主键\n",
    "  - `department`: 部门\n",
    "  - `course_id`: 课程编号\n",
    "  - `year`: 学年\n",
    "  - `quarter`: 季度\n",
    "  - `total`: 总座位数\n",
    "\n",
    "- Course_Professors\n",
    "  - 链接表，链接课程和教授。为什么不做列？：因为同一门课可能有多个教授。\n",
    "  - `course_offering_id`: 外键，连接到 Course 表\n",
    "  - `prof_id`: 外键，链接到 Professors 表\n",
    "\n",
    "- Enrollment_Snapshots\n",
    "  - 注册数据快照表\n",
    "  - `snapshot_id`: 主键\n",
    "  - `course_offering_id`: 外键，连接到 Course 表\n",
    "  - `snapshot_date`: 日期\n",
    "  - `enrolled_count`: 注册人数\n",
    "  - `waitlist_count`: 候补名单人数\n",
    "\n",
    "在未来，我们还可能添加 Comments 表，Course_Rating 表, Professor_Rating 表，Department_Requirement 表等"
   ]
  },
  {
   "cell_type": "markdown",
   "metadata": {
    "application/vnd.databricks.v1+cell": {
     "cellMetadata": {
      "byteLimit": 2048000,
      "rowLimit": 10000
     },
     "inputWidgets": {},
     "nuid": "94acf53a-16ec-4d7f-b4a7-58db92e066d4",
     "showTitle": false,
     "tableResultSettingsMap": {},
     "title": ""
    }
   },
   "source": [
    "## Create Process"
   ]
  },
  {
   "cell_type": "markdown",
   "metadata": {
    "application/vnd.databricks.v1+cell": {
     "cellMetadata": {
      "byteLimit": 2048000,
      "rowLimit": 10000
     },
     "inputWidgets": {},
     "nuid": "449becda-8250-4dc3-8151-878452ad0de6",
     "showTitle": false,
     "tableResultSettingsMap": {},
     "title": ""
    }
   },
   "source": [
    "#### Required parameters and test S3 connection"
   ]
  },
  {
   "cell_type": "code",
   "execution_count": 0,
   "metadata": {
    "application/vnd.databricks.v1+cell": {
     "cellMetadata": {
      "byteLimit": 2048000,
      "rowLimit": 10000
     },
     "inputWidgets": {},
     "nuid": "788bd697-f7ff-47bc-83c7-26fd875927ff",
     "showTitle": false,
     "tableResultSettingsMap": {},
     "title": ""
    }
   },
   "outputs": [],
   "source": [
    "import json\n",
    "import os\n",
    "import uuid\n",
    "from pyspark.sql import functions as F\n",
    "from pyspark.sql.window import Window\n",
    "from pyspark.sql.types import StructType, StructField, StringType, IntegerType, DoubleType\n",
    "from pyspark.sql import SparkSession\n",
    "from pyspark.sql import functions as F\n",
    "from pyspark.sql.functions import col, sum, when, lit\n",
    "from pyspark.sql.functions import sum, avg, max, min, count, countDistinct, first, last, mean, stddev, collect_list, collect_set, approx_count_distinct, expr\n",
    "from pyspark.sql.functions import col, from_unixtime, to_timestamp, date_format, row_number\n",
    "from pyspark.sql.functions import split, locate, explode, trim, substring, size\n",
    "\n",
    "\n",
    "# 必要的参数，链接 AWS S3\n"
   ]
  },
  {
   "cell_type": "code",
   "execution_count": 0,
   "metadata": {
    "application/vnd.databricks.v1+cell": {
     "cellMetadata": {
      "byteLimit": 2048000,
      "rowLimit": 10000
     },
     "inputWidgets": {},
     "nuid": "cf7fed1d-b735-472d-9e11-b05d9fb4cd84",
     "showTitle": false,
     "tableResultSettingsMap": {},
     "title": ""
    }
   },
   "outputs": [],
   "source": [
    "spark.conf.set(\"fs.s3a.access.key\", AWS_ACCESS_KEY)\n",
    "spark.conf.set(\"fs.s3a.secret.key\", AWS_SECRET_KEY)"
   ]
  },
  {
   "cell_type": "code",
   "execution_count": 0,
   "metadata": {
    "application/vnd.databricks.v1+cell": {
     "cellMetadata": {
      "byteLimit": 2048000,
      "rowLimit": 10000
     },
     "inputWidgets": {},
     "nuid": "22a87105-d094-47d7-ba94-22c1be3eeef2",
     "showTitle": false,
     "tableResultSettingsMap": {},
     "title": ""
    }
   },
   "outputs": [
    {
     "output_type": "stream",
     "name": "stdout",
     "output_type": "stream",
     "text": [
      "+--------------------+----------+-----+--------+-----------+----+-------+----------+---------+\n|                prof|      date|total|waitlist|enrolled_ct|year|quarter|department|course_id|\n+--------------------+----------+-----+--------+-----------+----+-------+----------+---------+\n|Butler; Elizabeth...|2024-01-05|   68|      11|         68|2024| Winter|       AAS|       10|\n|Butler; Elizabeth...|2023-11-25|   68|       0|         47|2024| Winter|       AAS|       10|\n|Butler; Elizabeth...|2023-11-28|   68|       9|         66|2024| Winter|       AAS|       10|\n+--------------------+----------+-----+--------+-----------+----+-------+----------+---------+\nonly showing top 3 rows\n\nroot\n |-- prof: string (nullable = true)\n |-- date: date (nullable = true)\n |-- total: integer (nullable = true)\n |-- waitlist: integer (nullable = true)\n |-- enrolled_ct: integer (nullable = true)\n |-- year: integer (nullable = true)\n |-- quarter: string (nullable = true)\n |-- department: string (nullable = true)\n |-- course_id: string (nullable = true)\n\n"
     ]
    }
   ],
   "source": [
    "# 关于S3的基本参数\n",
    "base_path = f\"s3a://{BUCKET_NAME}/ucsd\"\n",
    "path_final_data = f\"{base_path}/final/final\"\n",
    "path_final_table = f\"{base_path}/final_table\"\n",
    "\n",
    "try:\n",
    "    df = spark.read.csv(f\"{path_final_data}\", header=True, inferSchema=True)\n",
    "    display(df.show(3))\n",
    "    df.printSchema()\n",
    "except Exception as e:\n",
    "    print(f\"Table read failed: {e}\")"
   ]
  },
  {
   "cell_type": "markdown",
   "metadata": {
    "application/vnd.databricks.v1+cell": {
     "cellMetadata": {
      "byteLimit": 2048000,
      "rowLimit": 10000
     },
     "inputWidgets": {},
     "nuid": "0051a075-dd08-4c17-802e-79bd83856c06",
     "showTitle": false,
     "tableResultSettingsMap": {},
     "title": ""
    }
   },
   "source": [
    "#### Tool functions"
   ]
  },
  {
   "cell_type": "code",
   "execution_count": 0,
   "metadata": {
    "application/vnd.databricks.v1+cell": {
     "cellMetadata": {
      "byteLimit": 2048000,
      "rowLimit": 10000
     },
     "inputWidgets": {},
     "nuid": "9dbd9b1c-cf22-4d64-a0d5-630755f0aa48",
     "showTitle": false,
     "tableResultSettingsMap": {},
     "title": ""
    }
   },
   "outputs": [],
   "source": [
    "# uuid 生成函数\n",
    "uuid_udf = F.udf(lambda: str(uuid.uuid4()), StringType())\n",
    "\n",
    "# 分裂 prof 为first_name, last_name, middle_name\n",
    "def split_prof_name(df):\n",
    "\n",
    "    # 分裂多个教授授课的课程\n",
    "    # 有一些课程由多个教授授课，这种情况下教授名字被 & 链接\n",
    "    # 例如 Bafna; Vineet & Zhong; Sheng \n",
    "    # 将其分裂为多行\n",
    "    df = df.withColumn(\"prof\", explode(split(col(\"prof\"), \"& \"))) \\\n",
    "            .withColumn(\"prof\", trim(col(\"prof\")))\n",
    "\n",
    "    # 对于professor的名字，其格式为 last_name; first_name middle_name(可能为null)\n",
    "    # 将其分裂为三列\n",
    "    # 如果没有中间名，prof_middle_name 列为null\n",
    "    # 如果教授为 Staff，prof_first_name 和 prof_last_name 都为 Staff\n",
    "\n",
    "    df = df.withColumn(\"isStaff\", col(\"prof\") == lit(\"Staff\"))\n",
    "\n",
    "    df = df.withColumn(\n",
    "        \"prof_last_name\",\n",
    "        when(col(\"isStaff\"), \"Staff\")\n",
    "        .otherwise(trim(split(col(\"prof\"), \"; \").getItem(0)))\n",
    "    ).withColumn(\n",
    "        \"first_middle_name\",\n",
    "        when(col(\"isStaff\"), \"Staff\")\n",
    "        .otherwise(trim(split(col(\"prof\"), \"; \").getItem(1)))\n",
    "    )\n",
    "\n",
    "    df = df.withColumn(\n",
    "        \"prof_first_name\", \n",
    "        when(col(\"isStaff\"), \"Staff\")\n",
    "        .otherwise(split(col(\"first_middle_name\"), \" \", 2).getItem(0))\n",
    "    ).withColumn(\n",
    "        \"prof_middle_name\",\n",
    "        when(col(\"isStaff\"), lit(None))\n",
    "        .otherwise(\n",
    "            # 检查有没有middlename\n",
    "            when(size(split(col(\"first_middle_name\"), \" \")) > 1, split(col(\"first_middle_name\"), \" \", 2).getItem(1))\n",
    "            .otherwise(lit(None))\n",
    "        )\n",
    "    )\n",
    "    \n",
    "    df = df.drop(\"isStaff\", \"first_middle_name\")\n",
    "\n",
    "    return df\n",
    "\n",
    "# 准备 professors 表的数据\n",
    "def create_prof_table_data(df_original):\n",
    "    df = df_original\n",
    "    df = df.select(\"prof\").distinct()\n",
    "    \n",
    "    # 分裂教授名字\n",
    "    df = split_prof_name(df)\n",
    "    df = df.drop(\"prof\").distinct()\n",
    "\n",
    "    # 生成主键列\n",
    "    df = df.withColumn(\"prof_id\", uuid_udf())\n",
    "\n",
    "    return df\n",
    "\n",
    "# 准备 Courses 表的数据\n",
    "def create_courses_table_data(df):\n",
    "    df = df.select(\"department\", \"course_id\", \"year\", \"quarter\", \"total\").distinct()\n",
    "    # 生成主键\n",
    "    df = df.withColumn(\"course_offering_id\", uuid_udf())\n",
    "    return df\n",
    "\n",
    "# 建立 Courses-Professors 连接表\n",
    "# 两张表之间暂时的JOIN列为 prof 列\n",
    "def create_courses_professors_table_data(courses, professors, registrations_original):\n",
    "    \n",
    "    # 现在多了 prof_first_name, prof_last_name, prof_middle_name 列\n",
    "    df = split_prof_name(registrations_original)\n",
    "\n",
    "    # 获取 prof_id\n",
    "    df = df.join(professors, on=[\"prof_first_name\", \"prof_last_name\", \"prof_middle_name\"], how=\"inner\")\n",
    "\n",
    "    # 获取 courses_id\n",
    "    df = df.join(courses, on=[\"year\", \"quarter\", \"department\", \"course_id\", \"total\"], how=\"inner\")\n",
    "\n",
    "    # 只取需要的两列\n",
    "    df = df.select(\"prof_id\", \"course_offering_id\").distinct()\n",
    "\n",
    "    return df\n",
    "\n",
    "def create_enrollment_snapshots_table_data(registrations_original):\n",
    "    df = registrations_original\n",
    "    \n",
    "    # 获取 courses_id\n",
    "    df = df.join(courses, on=[\"year\", \"quarter\", \"department\", \"course_id\", \"total\"], how=\"inner\")\n",
    "\n",
    "    # 只取需要的列\n",
    "    df = df.select(\"date\", \"waitlist\", \"enrolled_ct\", \"course_offering_id\")\n",
    "\n",
    "    return df\n"
   ]
  },
  {
   "cell_type": "code",
   "execution_count": 0,
   "metadata": {
    "application/vnd.databricks.v1+cell": {
     "cellMetadata": {
      "byteLimit": 2048000,
      "rowLimit": 10000
     },
     "inputWidgets": {},
     "nuid": "07956ad5-3658-474f-bbd0-fabb40572453",
     "showTitle": false,
     "tableResultSettingsMap": {},
     "title": ""
    }
   },
   "outputs": [],
   "source": [
    "data_final = df = spark.read.csv(f\"{path_final_data}\", header=True, inferSchema=True)"
   ]
  },
  {
   "cell_type": "code",
   "execution_count": 0,
   "metadata": {
    "application/vnd.databricks.v1+cell": {
     "cellMetadata": {
      "byteLimit": 2048000,
      "rowLimit": 10000
     },
     "inputWidgets": {},
     "nuid": "7d876c91-125c-4288-9f06-287966ce0c7c",
     "showTitle": false,
     "tableResultSettingsMap": {},
     "title": ""
    }
   },
   "outputs": [
    {
     "output_type": "stream",
     "name": "stdout",
     "output_type": "stream",
     "text": [
      "+--------------+---------------+----------------+--------------------+\n|prof_last_name|prof_first_name|prof_middle_name|             prof_id|\n+--------------+---------------+----------------+--------------------+\n|     Borkowski|        Michael|           Humes|e3b57a0c-f7ee-46f...|\n|           Som|        Brandon|               D|8affeedc-fbfc-4b9...|\n|    Schurmeier|       Kimberly|            null|d32f18d1-e2e8-48d...|\n+--------------+---------------+----------------+--------------------+\nonly showing top 3 rows\n\n"
     ]
    }
   ],
   "source": [
    "df_professors = create_prof_table_data(data_final)\n",
    "df_professors.show(3)"
   ]
  },
  {
   "cell_type": "code",
   "execution_count": 0,
   "metadata": {
    "application/vnd.databricks.v1+cell": {
     "cellMetadata": {
      "byteLimit": 2048000,
      "rowLimit": 10000
     },
     "inputWidgets": {},
     "nuid": "f86a6485-75a4-41dd-9c77-44e7b4d94502",
     "showTitle": false,
     "tableResultSettingsMap": {},
     "title": ""
    }
   },
   "outputs": [
    {
     "output_type": "stream",
     "name": "stdout",
     "output_type": "stream",
     "text": [
      "+----------+---------+----+-------+-----+--------------------+\n|department|course_id|year|quarter|total|  course_offering_id|\n+----------+---------+----+-------+-----+--------------------+\n|       AAS|       11|2024| Winter|   68|a6ced994-4dbd-4e1...|\n|      AESE|     278B|2024| Winter|   35|538f65b9-72e6-404...|\n|       AAS|       10|2024| Winter|   68|2d0e2d58-55e7-4c2...|\n+----------+---------+----+-------+-----+--------------------+\nonly showing top 3 rows\n\n"
     ]
    }
   ],
   "source": [
    "df_courses = create_courses_table_data(data_final)\n",
    "df_courses.show(3)"
   ]
  },
  {
   "cell_type": "code",
   "execution_count": 0,
   "metadata": {
    "application/vnd.databricks.v1+cell": {
     "cellMetadata": {
      "byteLimit": 2048000,
      "rowLimit": 10000
     },
     "inputWidgets": {},
     "nuid": "7f4ad4e5-685e-4c74-a552-b0098ac4f823",
     "showTitle": false,
     "tableResultSettingsMap": {},
     "title": ""
    }
   },
   "outputs": [
    {
     "output_type": "stream",
     "name": "stdout",
     "output_type": "stream",
     "text": [
      "+--------------------+--------------------+\n|             prof_id|  course_offering_id|\n+--------------------+--------------------+\n|d604ad46-e95a-4fc...|28ccc907-6990-4b0...|\n|60198c99-ced1-447...|baf4e4f2-426f-4ce...|\n|35cdec05-a87e-4d7...|28ccc907-6990-4b0...|\n|35cdec05-a87e-4d7...|963b500f-e578-41a...|\n|b168e66f-1785-494...|b2347f63-5668-4e3...|\n|9cf9dde4-e897-4e8...|56047e23-a84c-447...|\n|50db2a59-592c-466...|f8275cb2-4b8b-4b2...|\n|50db2a59-592c-466...|fcc0c32a-11b4-409...|\n|f94d2751-5e7e-464...|ce15ce21-189e-4f3...|\n|d604ad46-e95a-4fc...|6563b4c0-cd18-430...|\n+--------------------+--------------------+\nonly showing top 10 rows\n\n"
     ]
    }
   ],
   "source": [
    "df_courses_professors = create_courses_professors_table_data(df_courses, df_professors, data_final)\n",
    "df_courses_professors.show(10)"
   ]
  },
  {
   "cell_type": "code",
   "execution_count": 0,
   "metadata": {
    "application/vnd.databricks.v1+cell": {
     "cellMetadata": {
      "byteLimit": 2048000,
      "rowLimit": 10000
     },
     "inputWidgets": {},
     "nuid": "4ca7b356-4590-4da0-8e68-a1890049ce6c",
     "showTitle": false,
     "tableResultSettingsMap": {},
     "title": ""
    }
   },
   "outputs": [
    {
     "output_type": "stream",
     "name": "stdout",
     "output_type": "stream",
     "text": [
      "Out[65]: 1635"
     ]
    }
   ],
   "source": [
    "df_courses_professors.count()"
   ]
  },
  {
   "cell_type": "code",
   "execution_count": 0,
   "metadata": {
    "application/vnd.databricks.v1+cell": {
     "cellMetadata": {
      "byteLimit": 2048000,
      "rowLimit": 10000
     },
     "inputWidgets": {},
     "nuid": "b92fe8e1-36ff-4a31-a2cf-74cf4afbe954",
     "showTitle": false,
     "tableResultSettingsMap": {},
     "title": ""
    }
   },
   "outputs": [
    {
     "output_type": "stream",
     "name": "stdout",
     "output_type": "stream",
     "text": [
      "Out[67]: 2741"
     ]
    }
   ],
   "source": [
    "data_final.select(\"department\", \"course_id\", \"year\", \"quarter\", \"prof\").where(col(\"prof\") != lit(\"Staff\")).distinct().count()"
   ]
  }
 ],
 "metadata": {
  "application/vnd.databricks.v1+notebook": {
   "computePreferences": null,
   "dashboards": [],
   "environmentMetadata": {
    "base_environment": "",
    "environment_version": "1"
   },
   "inputWidgetPreferences": null,
   "language": "python",
   "notebookMetadata": {
    "pythonIndentUnit": 4
   },
   "notebookName": "Table Creation 2025-06-11 10:32:55",
   "widgets": {}
  }
 },
 "nbformat": 4,
 "nbformat_minor": 0
}